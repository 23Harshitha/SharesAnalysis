{
 "cells": [
  {
   "cell_type": "code",
   "execution_count": 1,
   "id": "c42ea93b",
   "metadata": {},
   "outputs": [],
   "source": [
    "import numpy as np\n",
    "import pandas as pd\n",
    "import matplotlib.pyplot as plt\n",
    "import pandas_datareader as data"
   ]
  },
  {
   "cell_type": "code",
   "execution_count": 2,
   "id": "1d57636c",
   "metadata": {},
   "outputs": [
    {
     "name": "stdout",
     "output_type": "stream",
     "text": [
      "Requirement already satisfied: pandas_datareader in c:\\users\\harsh\\anaconda3\\lib\\site-packages (0.10.0)\n",
      "Requirement already satisfied: pandas>=0.23 in c:\\users\\harsh\\anaconda3\\lib\\site-packages (from pandas_datareader) (1.3.4)\n",
      "Requirement already satisfied: lxml in c:\\users\\harsh\\anaconda3\\lib\\site-packages (from pandas_datareader) (4.9.3)\n",
      "Requirement already satisfied: requests>=2.19.0 in c:\\users\\harsh\\anaconda3\\lib\\site-packages (from pandas_datareader) (2.31.0)\n",
      "Requirement already satisfied: pytz>=2017.3 in c:\\users\\harsh\\anaconda3\\lib\\site-packages (from pandas>=0.23->pandas_datareader) (2023.3.post1)\n",
      "Requirement already satisfied: numpy>=1.17.3 in c:\\users\\harsh\\anaconda3\\lib\\site-packages (from pandas>=0.23->pandas_datareader) (1.21.6)\n",
      "Requirement already satisfied: python-dateutil>=2.7.3 in c:\\users\\harsh\\anaconda3\\lib\\site-packages (from pandas>=0.23->pandas_datareader) (2.8.2)\n",
      "Requirement already satisfied: six>=1.5 in c:\\users\\harsh\\anaconda3\\lib\\site-packages (from python-dateutil>=2.7.3->pandas>=0.23->pandas_datareader) (1.16.0)\n",
      "Requirement already satisfied: certifi>=2017.4.17 in c:\\users\\harsh\\anaconda3\\lib\\site-packages (from requests>=2.19.0->pandas_datareader) (2021.10.8)\n",
      "Requirement already satisfied: urllib3<3,>=1.21.1 in c:\\users\\harsh\\anaconda3\\lib\\site-packages (from requests>=2.19.0->pandas_datareader) (1.26.7)\n",
      "Requirement already satisfied: charset-normalizer<4,>=2 in c:\\users\\harsh\\anaconda3\\lib\\site-packages (from requests>=2.19.0->pandas_datareader) (2.0.4)\n",
      "Requirement already satisfied: idna<4,>=2.5 in c:\\users\\harsh\\anaconda3\\lib\\site-packages (from requests>=2.19.0->pandas_datareader) (3.2)\n"
     ]
    }
   ],
   "source": [
    "!pip3 install pandas_datareader"
   ]
  },
  {
   "cell_type": "code",
   "execution_count": 3,
   "id": "4be0ac35",
   "metadata": {},
   "outputs": [
    {
     "name": "stdout",
     "output_type": "stream",
     "text": [
      "Requirement already satisfied: yfinance in c:\\users\\harsh\\anaconda3\\lib\\site-packages (0.2.31)\n",
      "Requirement already satisfied: peewee>=3.16.2 in c:\\users\\harsh\\anaconda3\\lib\\site-packages (from yfinance) (3.17.0)\n",
      "Requirement already satisfied: frozendict>=2.3.4 in c:\\users\\harsh\\anaconda3\\lib\\site-packages (from yfinance) (2.3.8)\n",
      "Requirement already satisfied: numpy>=1.16.5 in c:\\users\\harsh\\anaconda3\\lib\\site-packages (from yfinance) (1.21.6)\n",
      "Requirement already satisfied: requests>=2.31 in c:\\users\\harsh\\anaconda3\\lib\\site-packages (from yfinance) (2.31.0)\n",
      "Requirement already satisfied: pytz>=2022.5 in c:\\users\\harsh\\anaconda3\\lib\\site-packages (from yfinance) (2023.3.post1)\n",
      "Requirement already satisfied: beautifulsoup4>=4.11.1 in c:\\users\\harsh\\anaconda3\\lib\\site-packages (from yfinance) (4.12.2)\n",
      "Requirement already satisfied: lxml>=4.9.1 in c:\\users\\harsh\\anaconda3\\lib\\site-packages (from yfinance) (4.9.3)\n",
      "Requirement already satisfied: pandas>=1.3.0 in c:\\users\\harsh\\anaconda3\\lib\\site-packages (from yfinance) (1.3.4)\n",
      "Requirement already satisfied: html5lib>=1.1 in c:\\users\\harsh\\anaconda3\\lib\\site-packages (from yfinance) (1.1)\n",
      "Requirement already satisfied: appdirs>=1.4.4 in c:\\users\\harsh\\anaconda3\\lib\\site-packages (from yfinance) (1.4.4)\n",
      "Requirement already satisfied: multitasking>=0.0.7 in c:\\users\\harsh\\anaconda3\\lib\\site-packages (from yfinance) (0.0.11)\n",
      "Requirement already satisfied: soupsieve>1.2 in c:\\users\\harsh\\anaconda3\\lib\\site-packages (from beautifulsoup4>=4.11.1->yfinance) (2.2.1)\n",
      "Requirement already satisfied: six>=1.9 in c:\\users\\harsh\\anaconda3\\lib\\site-packages (from html5lib>=1.1->yfinance) (1.16.0)\n",
      "Requirement already satisfied: webencodings in c:\\users\\harsh\\anaconda3\\lib\\site-packages (from html5lib>=1.1->yfinance) (0.5.1)\n",
      "Requirement already satisfied: python-dateutil>=2.7.3 in c:\\users\\harsh\\anaconda3\\lib\\site-packages (from pandas>=1.3.0->yfinance) (2.8.2)\n",
      "Requirement already satisfied: idna<4,>=2.5 in c:\\users\\harsh\\anaconda3\\lib\\site-packages (from requests>=2.31->yfinance) (3.2)\n",
      "Requirement already satisfied: urllib3<3,>=1.21.1 in c:\\users\\harsh\\anaconda3\\lib\\site-packages (from requests>=2.31->yfinance) (1.26.7)\n",
      "Requirement already satisfied: certifi>=2017.4.17 in c:\\users\\harsh\\anaconda3\\lib\\site-packages (from requests>=2.31->yfinance) (2021.10.8)\n",
      "Requirement already satisfied: charset-normalizer<4,>=2 in c:\\users\\harsh\\anaconda3\\lib\\site-packages (from requests>=2.31->yfinance) (2.0.4)\n",
      "Note: you may need to restart the kernel to use updated packages.\n"
     ]
    }
   ],
   "source": [
    "pip install yfinance"
   ]
  },
  {
   "cell_type": "code",
   "execution_count": 4,
   "id": "33a57c1f",
   "metadata": {},
   "outputs": [
    {
     "name": "stdout",
     "output_type": "stream",
     "text": [
      "[*********************100%%**********************]  3 of 3 completed\n",
      "            Adj Close                               Close              \\\n",
      "                 INFY      ITC.NS TATAPOWER.NS       INFY      ITC.NS   \n",
      "Date                                                                    \n",
      "2022-12-01  20.236277  332.231232   222.775269  20.510000  339.549988   \n",
      "2022-12-02  19.920547  329.882996   223.171570  20.190001  337.149994   \n",
      "2022-12-05  19.486420  329.491608   222.131256  19.750000  336.750000   \n",
      "2022-12-06  19.150957  330.029755   226.688812  19.410000  337.299988   \n",
      "2022-12-07  19.131224  332.769409   223.766037  19.389999  340.100006   \n",
      "2022-12-08  19.318689  331.106049   222.973419  19.580000  338.399994   \n",
      "2022-12-09  18.243235  334.041382   217.375549  18.490000  341.399994   \n",
      "2022-12-12  18.164303  335.802612   215.691238  18.410000  343.200012   \n",
      "2022-12-13  18.480032  338.150848   216.830627  18.730000  345.600006   \n",
      "2022-12-14  18.470165  337.955139   220.645096  18.719999  345.399994   \n",
      "\n",
      "                              High                                 Low  \\\n",
      "           TATAPOWER.NS       INFY      ITC.NS TATAPOWER.NS       INFY   \n",
      "Date                                                                     \n",
      "2022-12-01   224.850006  20.570000  341.700012   227.149994  20.250000   \n",
      "2022-12-02   225.250000  20.290001  340.799988   226.350006  19.860001   \n",
      "2022-12-05   224.199997  20.150000  338.850006   225.850006  19.590000   \n",
      "2022-12-06   228.800003  19.580000  338.200012   230.300003  19.180000   \n",
      "2022-12-07   225.850006  19.430000  341.500000   229.600006  19.230000   \n",
      "2022-12-08   225.050003  19.820000  342.149994   227.300003  19.490000   \n",
      "2022-12-09   219.399994  19.020000  342.500000   226.500000  18.410000   \n",
      "2022-12-12   217.699997  18.530001  344.000000   219.750000  18.360001   \n",
      "2022-12-13   218.850006  19.150000  346.000000   220.300003  18.629999   \n",
      "2022-12-14   222.699997  18.969999  347.350006   223.199997  18.600000   \n",
      "\n",
      "                                          Open                           \\\n",
      "                ITC.NS TATAPOWER.NS       INFY      ITC.NS TATAPOWER.NS   \n",
      "Date                                                                      \n",
      "2022-12-01  336.799988   223.600006  20.400000  341.700012   225.250000   \n",
      "2022-12-02  336.750000   223.850006  20.100000  339.350006   225.449997   \n",
      "2022-12-05  334.149994   222.350006  20.040001  337.649994   225.250000   \n",
      "2022-12-06  334.100006   223.500000  19.490000  334.100006   224.199997   \n",
      "2022-12-07  336.649994   225.399994  19.350000  338.500000   228.800003   \n",
      "2022-12-08  337.500000   224.800003  19.540001  340.200012   226.000000   \n",
      "2022-12-09  338.000000   217.500000  18.920000  339.750000   225.899994   \n",
      "2022-12-12  340.100006   215.699997  18.490000  341.000000   219.750000   \n",
      "2022-12-13  342.399994   217.800003  19.010000  344.500000   218.800003   \n",
      "2022-12-14  343.750000   219.399994  18.750000  346.000000   219.800003   \n",
      "\n",
      "              Volume                         \n",
      "                INFY    ITC.NS TATAPOWER.NS  \n",
      "Date                                         \n",
      "2022-12-01   5586800  16630417      7833074  \n",
      "2022-12-02   5674600   8388835      7223274  \n",
      "2022-12-05   7650000   9716390     10750610  \n",
      "2022-12-06  11673400   6327430     20071039  \n",
      "2022-12-07   8087400   9813208      7548312  \n",
      "2022-12-08   6872000   6200447      7507975  \n",
      "2022-12-09  12510700   8132228     13087278  \n",
      "2022-12-12   6741000  11214662      8858525  \n",
      "2022-12-13  13184600  10693426      7265105  \n",
      "2022-12-14   7721700   7379878      9179593  \n"
     ]
    }
   ],
   "source": [
    "from pandas_datareader import data as pdr\n",
    "import yfinance as yf\n",
    "yf.pdr_override()\n",
    "y_symbols = ['INFY', 'TATAPOWER.NS', 'ITC.NS']\n",
    "from datetime import datetime\n",
    "startdate = datetime(2022,12,1)\n",
    "enddate = datetime(2022,12,15)\n",
    "data = pdr.get_data_yahoo(y_symbols, start=startdate, end=enddate)\n",
    "print(data)"
   ]
  },
  {
   "cell_type": "code",
   "execution_count": 5,
   "id": "72a09009",
   "metadata": {},
   "outputs": [
    {
     "name": "stdout",
     "output_type": "stream",
     "text": [
      "[*********************100%%**********************]  1 of 1 completed\n"
     ]
    },
    {
     "data": {
      "text/html": [
       "<div>\n",
       "<style scoped>\n",
       "    .dataframe tbody tr th:only-of-type {\n",
       "        vertical-align: middle;\n",
       "    }\n",
       "\n",
       "    .dataframe tbody tr th {\n",
       "        vertical-align: top;\n",
       "    }\n",
       "\n",
       "    .dataframe thead th {\n",
       "        text-align: right;\n",
       "    }\n",
       "</style>\n",
       "<table border=\"1\" class=\"dataframe\">\n",
       "  <thead>\n",
       "    <tr style=\"text-align: right;\">\n",
       "      <th></th>\n",
       "      <th>Open</th>\n",
       "      <th>High</th>\n",
       "      <th>Low</th>\n",
       "      <th>Close</th>\n",
       "      <th>Adj Close</th>\n",
       "      <th>Volume</th>\n",
       "    </tr>\n",
       "    <tr>\n",
       "      <th>Date</th>\n",
       "      <th></th>\n",
       "      <th></th>\n",
       "      <th></th>\n",
       "      <th></th>\n",
       "      <th></th>\n",
       "      <th></th>\n",
       "    </tr>\n",
       "  </thead>\n",
       "  <tbody>\n",
       "    <tr>\n",
       "      <th>2012-12-03</th>\n",
       "      <td>5.53125</td>\n",
       "      <td>5.55000</td>\n",
       "      <td>5.49625</td>\n",
       "      <td>5.50000</td>\n",
       "      <td>4.247302</td>\n",
       "      <td>8401600</td>\n",
       "    </tr>\n",
       "    <tr>\n",
       "      <th>2012-12-04</th>\n",
       "      <td>5.50375</td>\n",
       "      <td>5.54500</td>\n",
       "      <td>5.49250</td>\n",
       "      <td>5.50375</td>\n",
       "      <td>4.250197</td>\n",
       "      <td>13055200</td>\n",
       "    </tr>\n",
       "    <tr>\n",
       "      <th>2012-12-05</th>\n",
       "      <td>5.45875</td>\n",
       "      <td>5.48625</td>\n",
       "      <td>5.36250</td>\n",
       "      <td>5.43625</td>\n",
       "      <td>4.198072</td>\n",
       "      <td>20253600</td>\n",
       "    </tr>\n",
       "    <tr>\n",
       "      <th>2012-12-06</th>\n",
       "      <td>5.36000</td>\n",
       "      <td>5.40000</td>\n",
       "      <td>5.33250</td>\n",
       "      <td>5.37250</td>\n",
       "      <td>4.148842</td>\n",
       "      <td>19870400</td>\n",
       "    </tr>\n",
       "    <tr>\n",
       "      <th>2012-12-07</th>\n",
       "      <td>5.36250</td>\n",
       "      <td>5.37875</td>\n",
       "      <td>5.30500</td>\n",
       "      <td>5.35250</td>\n",
       "      <td>4.133397</td>\n",
       "      <td>17803200</td>\n",
       "    </tr>\n",
       "  </tbody>\n",
       "</table>\n",
       "</div>"
      ],
      "text/plain": [
       "               Open     High      Low    Close  Adj Close    Volume\n",
       "Date                                                               \n",
       "2012-12-03  5.53125  5.55000  5.49625  5.50000   4.247302   8401600\n",
       "2012-12-04  5.50375  5.54500  5.49250  5.50375   4.250197  13055200\n",
       "2012-12-05  5.45875  5.48625  5.36250  5.43625   4.198072  20253600\n",
       "2012-12-06  5.36000  5.40000  5.33250  5.37250   4.148842  19870400\n",
       "2012-12-07  5.36250  5.37875  5.30500  5.35250   4.133397  17803200"
      ]
     },
     "execution_count": 5,
     "metadata": {},
     "output_type": "execute_result"
    }
   ],
   "source": [
    "from pandas_datareader import data as pdr\n",
    "import yfinance as yf\n",
    "yf.pdr_override()\n",
    "y_symbols = ['INFY']\n",
    "from datetime import datetime\n",
    "startdate = datetime(2012,12,1)\n",
    "enddate = datetime(2023,12,1)\n",
    "data = pdr.get_data_yahoo(y_symbols, start=startdate, end=enddate)\n",
    "#print(data)\n",
    "data.head()"
   ]
  },
  {
   "cell_type": "code",
   "execution_count": 6,
   "id": "d535d706",
   "metadata": {},
   "outputs": [
    {
     "data": {
      "text/html": [
       "<div>\n",
       "<style scoped>\n",
       "    .dataframe tbody tr th:only-of-type {\n",
       "        vertical-align: middle;\n",
       "    }\n",
       "\n",
       "    .dataframe tbody tr th {\n",
       "        vertical-align: top;\n",
       "    }\n",
       "\n",
       "    .dataframe thead th {\n",
       "        text-align: right;\n",
       "    }\n",
       "</style>\n",
       "<table border=\"1\" class=\"dataframe\">\n",
       "  <thead>\n",
       "    <tr style=\"text-align: right;\">\n",
       "      <th></th>\n",
       "      <th>Open</th>\n",
       "      <th>High</th>\n",
       "      <th>Low</th>\n",
       "      <th>Close</th>\n",
       "      <th>Adj Close</th>\n",
       "      <th>Volume</th>\n",
       "    </tr>\n",
       "    <tr>\n",
       "      <th>Date</th>\n",
       "      <th></th>\n",
       "      <th></th>\n",
       "      <th></th>\n",
       "      <th></th>\n",
       "      <th></th>\n",
       "      <th></th>\n",
       "    </tr>\n",
       "  </thead>\n",
       "  <tbody>\n",
       "    <tr>\n",
       "      <th>2012-12-03</th>\n",
       "      <td>5.53125</td>\n",
       "      <td>5.550000</td>\n",
       "      <td>5.496250</td>\n",
       "      <td>5.500000</td>\n",
       "      <td>4.247302</td>\n",
       "      <td>8401600</td>\n",
       "    </tr>\n",
       "    <tr>\n",
       "      <th>2012-12-04</th>\n",
       "      <td>5.50375</td>\n",
       "      <td>5.545000</td>\n",
       "      <td>5.492500</td>\n",
       "      <td>5.503750</td>\n",
       "      <td>4.250197</td>\n",
       "      <td>13055200</td>\n",
       "    </tr>\n",
       "    <tr>\n",
       "      <th>2012-12-05</th>\n",
       "      <td>5.45875</td>\n",
       "      <td>5.486250</td>\n",
       "      <td>5.362500</td>\n",
       "      <td>5.436250</td>\n",
       "      <td>4.198072</td>\n",
       "      <td>20253600</td>\n",
       "    </tr>\n",
       "    <tr>\n",
       "      <th>2012-12-06</th>\n",
       "      <td>5.36000</td>\n",
       "      <td>5.400000</td>\n",
       "      <td>5.332500</td>\n",
       "      <td>5.372500</td>\n",
       "      <td>4.148842</td>\n",
       "      <td>19870400</td>\n",
       "    </tr>\n",
       "    <tr>\n",
       "      <th>2012-12-07</th>\n",
       "      <td>5.36250</td>\n",
       "      <td>5.378750</td>\n",
       "      <td>5.305000</td>\n",
       "      <td>5.352500</td>\n",
       "      <td>4.133397</td>\n",
       "      <td>17803200</td>\n",
       "    </tr>\n",
       "    <tr>\n",
       "      <th>...</th>\n",
       "      <td>...</td>\n",
       "      <td>...</td>\n",
       "      <td>...</td>\n",
       "      <td>...</td>\n",
       "      <td>...</td>\n",
       "      <td>...</td>\n",
       "    </tr>\n",
       "    <tr>\n",
       "      <th>2023-10-17</th>\n",
       "      <td>17.09000</td>\n",
       "      <td>17.400000</td>\n",
       "      <td>17.090000</td>\n",
       "      <td>17.350000</td>\n",
       "      <td>17.350000</td>\n",
       "      <td>7210500</td>\n",
       "    </tr>\n",
       "    <tr>\n",
       "      <th>2023-10-18</th>\n",
       "      <td>17.18000</td>\n",
       "      <td>17.280001</td>\n",
       "      <td>17.100000</td>\n",
       "      <td>17.139999</td>\n",
       "      <td>17.139999</td>\n",
       "      <td>6115500</td>\n",
       "    </tr>\n",
       "    <tr>\n",
       "      <th>2023-10-19</th>\n",
       "      <td>17.09000</td>\n",
       "      <td>17.260000</td>\n",
       "      <td>17.070000</td>\n",
       "      <td>17.090000</td>\n",
       "      <td>17.090000</td>\n",
       "      <td>4830900</td>\n",
       "    </tr>\n",
       "    <tr>\n",
       "      <th>2023-10-20</th>\n",
       "      <td>17.00000</td>\n",
       "      <td>17.180000</td>\n",
       "      <td>16.930000</td>\n",
       "      <td>16.969999</td>\n",
       "      <td>16.969999</td>\n",
       "      <td>5910200</td>\n",
       "    </tr>\n",
       "    <tr>\n",
       "      <th>2023-10-23</th>\n",
       "      <td>16.76000</td>\n",
       "      <td>17.010000</td>\n",
       "      <td>16.709999</td>\n",
       "      <td>16.780001</td>\n",
       "      <td>16.780001</td>\n",
       "      <td>8505800</td>\n",
       "    </tr>\n",
       "  </tbody>\n",
       "</table>\n",
       "<p>2741 rows × 6 columns</p>\n",
       "</div>"
      ],
      "text/plain": [
       "                Open       High        Low      Close  Adj Close    Volume\n",
       "Date                                                                      \n",
       "2012-12-03   5.53125   5.550000   5.496250   5.500000   4.247302   8401600\n",
       "2012-12-04   5.50375   5.545000   5.492500   5.503750   4.250197  13055200\n",
       "2012-12-05   5.45875   5.486250   5.362500   5.436250   4.198072  20253600\n",
       "2012-12-06   5.36000   5.400000   5.332500   5.372500   4.148842  19870400\n",
       "2012-12-07   5.36250   5.378750   5.305000   5.352500   4.133397  17803200\n",
       "...              ...        ...        ...        ...        ...       ...\n",
       "2023-10-17  17.09000  17.400000  17.090000  17.350000  17.350000   7210500\n",
       "2023-10-18  17.18000  17.280001  17.100000  17.139999  17.139999   6115500\n",
       "2023-10-19  17.09000  17.260000  17.070000  17.090000  17.090000   4830900\n",
       "2023-10-20  17.00000  17.180000  16.930000  16.969999  16.969999   5910200\n",
       "2023-10-23  16.76000  17.010000  16.709999  16.780001  16.780001   8505800\n",
       "\n",
       "[2741 rows x 6 columns]"
      ]
     },
     "execution_count": 6,
     "metadata": {},
     "output_type": "execute_result"
    }
   ],
   "source": [
    "data_copy = data\n",
    "data_copy"
   ]
  },
  {
   "cell_type": "code",
   "execution_count": 7,
   "id": "7ca300ff",
   "metadata": {},
   "outputs": [
    {
     "data": {
      "text/html": [
       "<div>\n",
       "<style scoped>\n",
       "    .dataframe tbody tr th:only-of-type {\n",
       "        vertical-align: middle;\n",
       "    }\n",
       "\n",
       "    .dataframe tbody tr th {\n",
       "        vertical-align: top;\n",
       "    }\n",
       "\n",
       "    .dataframe thead th {\n",
       "        text-align: right;\n",
       "    }\n",
       "</style>\n",
       "<table border=\"1\" class=\"dataframe\">\n",
       "  <thead>\n",
       "    <tr style=\"text-align: right;\">\n",
       "      <th></th>\n",
       "      <th>Date</th>\n",
       "      <th>Open</th>\n",
       "      <th>High</th>\n",
       "      <th>Low</th>\n",
       "      <th>Close</th>\n",
       "      <th>Adj Close</th>\n",
       "      <th>Volume</th>\n",
       "    </tr>\n",
       "  </thead>\n",
       "  <tbody>\n",
       "    <tr>\n",
       "      <th>0</th>\n",
       "      <td>2012-12-03</td>\n",
       "      <td>5.53125</td>\n",
       "      <td>5.55000</td>\n",
       "      <td>5.49625</td>\n",
       "      <td>5.50000</td>\n",
       "      <td>4.247302</td>\n",
       "      <td>8401600</td>\n",
       "    </tr>\n",
       "    <tr>\n",
       "      <th>1</th>\n",
       "      <td>2012-12-04</td>\n",
       "      <td>5.50375</td>\n",
       "      <td>5.54500</td>\n",
       "      <td>5.49250</td>\n",
       "      <td>5.50375</td>\n",
       "      <td>4.250197</td>\n",
       "      <td>13055200</td>\n",
       "    </tr>\n",
       "    <tr>\n",
       "      <th>2</th>\n",
       "      <td>2012-12-05</td>\n",
       "      <td>5.45875</td>\n",
       "      <td>5.48625</td>\n",
       "      <td>5.36250</td>\n",
       "      <td>5.43625</td>\n",
       "      <td>4.198072</td>\n",
       "      <td>20253600</td>\n",
       "    </tr>\n",
       "    <tr>\n",
       "      <th>3</th>\n",
       "      <td>2012-12-06</td>\n",
       "      <td>5.36000</td>\n",
       "      <td>5.40000</td>\n",
       "      <td>5.33250</td>\n",
       "      <td>5.37250</td>\n",
       "      <td>4.148842</td>\n",
       "      <td>19870400</td>\n",
       "    </tr>\n",
       "    <tr>\n",
       "      <th>4</th>\n",
       "      <td>2012-12-07</td>\n",
       "      <td>5.36250</td>\n",
       "      <td>5.37875</td>\n",
       "      <td>5.30500</td>\n",
       "      <td>5.35250</td>\n",
       "      <td>4.133397</td>\n",
       "      <td>17803200</td>\n",
       "    </tr>\n",
       "  </tbody>\n",
       "</table>\n",
       "</div>"
      ],
      "text/plain": [
       "        Date     Open     High      Low    Close  Adj Close    Volume\n",
       "0 2012-12-03  5.53125  5.55000  5.49625  5.50000   4.247302   8401600\n",
       "1 2012-12-04  5.50375  5.54500  5.49250  5.50375   4.250197  13055200\n",
       "2 2012-12-05  5.45875  5.48625  5.36250  5.43625   4.198072  20253600\n",
       "3 2012-12-06  5.36000  5.40000  5.33250  5.37250   4.148842  19870400\n",
       "4 2012-12-07  5.36250  5.37875  5.30500  5.35250   4.133397  17803200"
      ]
     },
     "execution_count": 7,
     "metadata": {},
     "output_type": "execute_result"
    }
   ],
   "source": [
    "data_copy = data_copy.reset_index()\n",
    "data_copy.head()"
   ]
  },
  {
   "cell_type": "code",
   "execution_count": 8,
   "id": "01ddaaa2",
   "metadata": {},
   "outputs": [
    {
     "data": {
      "text/html": [
       "<div>\n",
       "<style scoped>\n",
       "    .dataframe tbody tr th:only-of-type {\n",
       "        vertical-align: middle;\n",
       "    }\n",
       "\n",
       "    .dataframe tbody tr th {\n",
       "        vertical-align: top;\n",
       "    }\n",
       "\n",
       "    .dataframe thead th {\n",
       "        text-align: right;\n",
       "    }\n",
       "</style>\n",
       "<table border=\"1\" class=\"dataframe\">\n",
       "  <thead>\n",
       "    <tr style=\"text-align: right;\">\n",
       "      <th></th>\n",
       "      <th>Open</th>\n",
       "      <th>High</th>\n",
       "      <th>Low</th>\n",
       "      <th>Close</th>\n",
       "      <th>Volume</th>\n",
       "    </tr>\n",
       "  </thead>\n",
       "  <tbody>\n",
       "    <tr>\n",
       "      <th>0</th>\n",
       "      <td>5.53125</td>\n",
       "      <td>5.55000</td>\n",
       "      <td>5.49625</td>\n",
       "      <td>5.50000</td>\n",
       "      <td>8401600</td>\n",
       "    </tr>\n",
       "    <tr>\n",
       "      <th>1</th>\n",
       "      <td>5.50375</td>\n",
       "      <td>5.54500</td>\n",
       "      <td>5.49250</td>\n",
       "      <td>5.50375</td>\n",
       "      <td>13055200</td>\n",
       "    </tr>\n",
       "    <tr>\n",
       "      <th>2</th>\n",
       "      <td>5.45875</td>\n",
       "      <td>5.48625</td>\n",
       "      <td>5.36250</td>\n",
       "      <td>5.43625</td>\n",
       "      <td>20253600</td>\n",
       "    </tr>\n",
       "    <tr>\n",
       "      <th>3</th>\n",
       "      <td>5.36000</td>\n",
       "      <td>5.40000</td>\n",
       "      <td>5.33250</td>\n",
       "      <td>5.37250</td>\n",
       "      <td>19870400</td>\n",
       "    </tr>\n",
       "    <tr>\n",
       "      <th>4</th>\n",
       "      <td>5.36250</td>\n",
       "      <td>5.37875</td>\n",
       "      <td>5.30500</td>\n",
       "      <td>5.35250</td>\n",
       "      <td>17803200</td>\n",
       "    </tr>\n",
       "  </tbody>\n",
       "</table>\n",
       "</div>"
      ],
      "text/plain": [
       "      Open     High      Low    Close    Volume\n",
       "0  5.53125  5.55000  5.49625  5.50000   8401600\n",
       "1  5.50375  5.54500  5.49250  5.50375  13055200\n",
       "2  5.45875  5.48625  5.36250  5.43625  20253600\n",
       "3  5.36000  5.40000  5.33250  5.37250  19870400\n",
       "4  5.36250  5.37875  5.30500  5.35250  17803200"
      ]
     },
     "execution_count": 8,
     "metadata": {},
     "output_type": "execute_result"
    }
   ],
   "source": [
    "data_copy = data_copy.drop(['Adj Close','Date'],axis=1)\n",
    "data_copy.head()"
   ]
  },
  {
   "cell_type": "code",
   "execution_count": 9,
   "id": "684c7448",
   "metadata": {},
   "outputs": [
    {
     "data": {
      "image/png": "[encoded data removed]",
      "text/plain": [
       "<Figure size 432x288 with 1 Axes>"
      ]
     },
     "metadata": {
      "needs_background": "light"
     },
     "output_type": "display_data"
    }
   ],
   "source": [
    "plt.plot(data_copy.Close)\n",
    "plt.show()"
   ]
  },
  {
   "cell_type": "code",
   "execution_count": 10,
   "id": "dc07a2d7",
   "metadata": {},
   "outputs": [
    {
     "data": {
      "text/html": [
       "<div>\n",
       "<style scoped>\n",
       "    .dataframe tbody tr th:only-of-type {\n",
       "        vertical-align: middle;\n",
       "    }\n",
       "\n",
       "    .dataframe tbody tr th {\n",
       "        vertical-align: top;\n",
       "    }\n",
       "\n",
       "    .dataframe thead th {\n",
       "        text-align: right;\n",
       "    }\n",
       "</style>\n",
       "<table border=\"1\" class=\"dataframe\">\n",
       "  <thead>\n",
       "    <tr style=\"text-align: right;\">\n",
       "      <th></th>\n",
       "      <th>Open</th>\n",
       "      <th>High</th>\n",
       "      <th>Low</th>\n",
       "      <th>Close</th>\n",
       "      <th>Volume</th>\n",
       "    </tr>\n",
       "  </thead>\n",
       "  <tbody>\n",
       "    <tr>\n",
       "      <th>0</th>\n",
       "      <td>NaN</td>\n",
       "      <td>NaN</td>\n",
       "      <td>NaN</td>\n",
       "      <td>NaN</td>\n",
       "      <td>NaN</td>\n",
       "    </tr>\n",
       "    <tr>\n",
       "      <th>1</th>\n",
       "      <td>NaN</td>\n",
       "      <td>NaN</td>\n",
       "      <td>NaN</td>\n",
       "      <td>NaN</td>\n",
       "      <td>NaN</td>\n",
       "    </tr>\n",
       "    <tr>\n",
       "      <th>2</th>\n",
       "      <td>NaN</td>\n",
       "      <td>NaN</td>\n",
       "      <td>NaN</td>\n",
       "      <td>NaN</td>\n",
       "      <td>NaN</td>\n",
       "    </tr>\n",
       "    <tr>\n",
       "      <th>3</th>\n",
       "      <td>NaN</td>\n",
       "      <td>NaN</td>\n",
       "      <td>NaN</td>\n",
       "      <td>NaN</td>\n",
       "      <td>NaN</td>\n",
       "    </tr>\n",
       "    <tr>\n",
       "      <th>4</th>\n",
       "      <td>NaN</td>\n",
       "      <td>NaN</td>\n",
       "      <td>NaN</td>\n",
       "      <td>NaN</td>\n",
       "      <td>NaN</td>\n",
       "    </tr>\n",
       "    <tr>\n",
       "      <th>...</th>\n",
       "      <td>...</td>\n",
       "      <td>...</td>\n",
       "      <td>...</td>\n",
       "      <td>...</td>\n",
       "      <td>...</td>\n",
       "    </tr>\n",
       "    <tr>\n",
       "      <th>2736</th>\n",
       "      <td>16.7217</td>\n",
       "      <td>16.8566</td>\n",
       "      <td>16.6159</td>\n",
       "      <td>16.7470</td>\n",
       "      <td>9108408.0</td>\n",
       "    </tr>\n",
       "    <tr>\n",
       "      <th>2737</th>\n",
       "      <td>16.7361</td>\n",
       "      <td>16.8718</td>\n",
       "      <td>16.6317</td>\n",
       "      <td>16.7618</td>\n",
       "      <td>9076529.0</td>\n",
       "    </tr>\n",
       "    <tr>\n",
       "      <th>2738</th>\n",
       "      <td>16.7489</td>\n",
       "      <td>16.8850</td>\n",
       "      <td>16.6445</td>\n",
       "      <td>16.7740</td>\n",
       "      <td>9061520.0</td>\n",
       "    </tr>\n",
       "    <tr>\n",
       "      <th>2739</th>\n",
       "      <td>16.7600</td>\n",
       "      <td>16.8973</td>\n",
       "      <td>16.6555</td>\n",
       "      <td>16.7847</td>\n",
       "      <td>9054887.0</td>\n",
       "    </tr>\n",
       "    <tr>\n",
       "      <th>2740</th>\n",
       "      <td>16.7696</td>\n",
       "      <td>16.9073</td>\n",
       "      <td>16.6646</td>\n",
       "      <td>16.7929</td>\n",
       "      <td>9049535.0</td>\n",
       "    </tr>\n",
       "  </tbody>\n",
       "</table>\n",
       "<p>2741 rows × 5 columns</p>\n",
       "</div>"
      ],
      "text/plain": [
       "         Open     High      Low    Close     Volume\n",
       "0         NaN      NaN      NaN      NaN        NaN\n",
       "1         NaN      NaN      NaN      NaN        NaN\n",
       "2         NaN      NaN      NaN      NaN        NaN\n",
       "3         NaN      NaN      NaN      NaN        NaN\n",
       "4         NaN      NaN      NaN      NaN        NaN\n",
       "...       ...      ...      ...      ...        ...\n",
       "2736  16.7217  16.8566  16.6159  16.7470  9108408.0\n",
       "2737  16.7361  16.8718  16.6317  16.7618  9076529.0\n",
       "2738  16.7489  16.8850  16.6445  16.7740  9061520.0\n",
       "2739  16.7600  16.8973  16.6555  16.7847  9054887.0\n",
       "2740  16.7696  16.9073  16.6646  16.7929  9049535.0\n",
       "\n",
       "[2741 rows x 5 columns]"
      ]
     },
     "execution_count": 10,
     "metadata": {},
     "output_type": "execute_result"
    }
   ],
   "source": [
    "#Moving Average Calculations\n",
    "ma100 = data_copy.rolling(100).mean()\n",
    "ma100"
   ]
  },
  {
   "cell_type": "code",
   "execution_count": 11,
   "id": "92a58f48",
   "metadata": {},
   "outputs": [
    {
     "data": {
      "text/html": [
       "<div>\n",
       "<style scoped>\n",
       "    .dataframe tbody tr th:only-of-type {\n",
       "        vertical-align: middle;\n",
       "    }\n",
       "\n",
       "    .dataframe tbody tr th {\n",
       "        vertical-align: top;\n",
       "    }\n",
       "\n",
       "    .dataframe thead th {\n",
       "        text-align: right;\n",
       "    }\n",
       "</style>\n",
       "<table border=\"1\" class=\"dataframe\">\n",
       "  <thead>\n",
       "    <tr style=\"text-align: right;\">\n",
       "      <th></th>\n",
       "      <th>Open</th>\n",
       "      <th>High</th>\n",
       "      <th>Low</th>\n",
       "      <th>Close</th>\n",
       "      <th>Volume</th>\n",
       "    </tr>\n",
       "  </thead>\n",
       "  <tbody>\n",
       "    <tr>\n",
       "      <th>0</th>\n",
       "      <td>NaN</td>\n",
       "      <td>NaN</td>\n",
       "      <td>NaN</td>\n",
       "      <td>NaN</td>\n",
       "      <td>NaN</td>\n",
       "    </tr>\n",
       "    <tr>\n",
       "      <th>1</th>\n",
       "      <td>NaN</td>\n",
       "      <td>NaN</td>\n",
       "      <td>NaN</td>\n",
       "      <td>NaN</td>\n",
       "      <td>NaN</td>\n",
       "    </tr>\n",
       "    <tr>\n",
       "      <th>2</th>\n",
       "      <td>NaN</td>\n",
       "      <td>NaN</td>\n",
       "      <td>NaN</td>\n",
       "      <td>NaN</td>\n",
       "      <td>NaN</td>\n",
       "    </tr>\n",
       "    <tr>\n",
       "      <th>3</th>\n",
       "      <td>NaN</td>\n",
       "      <td>NaN</td>\n",
       "      <td>NaN</td>\n",
       "      <td>NaN</td>\n",
       "      <td>NaN</td>\n",
       "    </tr>\n",
       "    <tr>\n",
       "      <th>4</th>\n",
       "      <td>NaN</td>\n",
       "      <td>NaN</td>\n",
       "      <td>NaN</td>\n",
       "      <td>NaN</td>\n",
       "      <td>NaN</td>\n",
       "    </tr>\n",
       "    <tr>\n",
       "      <th>...</th>\n",
       "      <td>...</td>\n",
       "      <td>...</td>\n",
       "      <td>...</td>\n",
       "      <td>...</td>\n",
       "      <td>...</td>\n",
       "    </tr>\n",
       "    <tr>\n",
       "      <th>2736</th>\n",
       "      <td>16.97555</td>\n",
       "      <td>17.10610</td>\n",
       "      <td>16.86245</td>\n",
       "      <td>16.99235</td>\n",
       "      <td>9436186.0</td>\n",
       "    </tr>\n",
       "    <tr>\n",
       "      <th>2737</th>\n",
       "      <td>16.97100</td>\n",
       "      <td>17.10160</td>\n",
       "      <td>16.85870</td>\n",
       "      <td>16.98800</td>\n",
       "      <td>9444422.0</td>\n",
       "    </tr>\n",
       "    <tr>\n",
       "      <th>2738</th>\n",
       "      <td>16.96555</td>\n",
       "      <td>17.09615</td>\n",
       "      <td>16.85375</td>\n",
       "      <td>16.98230</td>\n",
       "      <td>9413369.5</td>\n",
       "    </tr>\n",
       "    <tr>\n",
       "      <th>2739</th>\n",
       "      <td>16.96085</td>\n",
       "      <td>17.09120</td>\n",
       "      <td>16.84910</td>\n",
       "      <td>16.97665</td>\n",
       "      <td>9390718.5</td>\n",
       "    </tr>\n",
       "    <tr>\n",
       "      <th>2740</th>\n",
       "      <td>16.95560</td>\n",
       "      <td>17.08690</td>\n",
       "      <td>16.84425</td>\n",
       "      <td>16.97215</td>\n",
       "      <td>9401146.0</td>\n",
       "    </tr>\n",
       "  </tbody>\n",
       "</table>\n",
       "<p>2741 rows × 5 columns</p>\n",
       "</div>"
      ],
      "text/plain": [
       "          Open      High       Low     Close     Volume\n",
       "0          NaN       NaN       NaN       NaN        NaN\n",
       "1          NaN       NaN       NaN       NaN        NaN\n",
       "2          NaN       NaN       NaN       NaN        NaN\n",
       "3          NaN       NaN       NaN       NaN        NaN\n",
       "4          NaN       NaN       NaN       NaN        NaN\n",
       "...        ...       ...       ...       ...        ...\n",
       "2736  16.97555  17.10610  16.86245  16.99235  9436186.0\n",
       "2737  16.97100  17.10160  16.85870  16.98800  9444422.0\n",
       "2738  16.96555  17.09615  16.85375  16.98230  9413369.5\n",
       "2739  16.96085  17.09120  16.84910  16.97665  9390718.5\n",
       "2740  16.95560  17.08690  16.84425  16.97215  9401146.0\n",
       "\n",
       "[2741 rows x 5 columns]"
      ]
     },
     "execution_count": 11,
     "metadata": {},
     "output_type": "execute_result"
    }
   ],
   "source": [
    "ma200 =  data_copy.rolling(200).mean()\n",
    "ma200"
   ]
  },
  {
   "cell_type": "code",
   "execution_count": 12,
   "id": "babe171f",
   "metadata": {},
   "outputs": [
    {
     "data": {
      "text/plain": [
       "Open      0\n",
       "High      0\n",
       "Low       0\n",
       "Close     0\n",
       "Volume    0\n",
       "dtype: int64"
      ]
     },
     "execution_count": 12,
     "metadata": {},
     "output_type": "execute_result"
    }
   ],
   "source": [
    "data_copy.isnull().sum()"
   ]
  },
  {
   "cell_type": "code",
   "execution_count": 13,
   "id": "30a0d93c",
   "metadata": {},
   "outputs": [
    {
     "data": {
      "text/html": [
       "<div>\n",
       "<style scoped>\n",
       "    .dataframe tbody tr th:only-of-type {\n",
       "        vertical-align: middle;\n",
       "    }\n",
       "\n",
       "    .dataframe tbody tr th {\n",
       "        vertical-align: top;\n",
       "    }\n",
       "\n",
       "    .dataframe thead th {\n",
       "        text-align: right;\n",
       "    }\n",
       "</style>\n",
       "<table border=\"1\" class=\"dataframe\">\n",
       "  <thead>\n",
       "    <tr style=\"text-align: right;\">\n",
       "      <th></th>\n",
       "      <th>Open</th>\n",
       "      <th>High</th>\n",
       "      <th>Low</th>\n",
       "      <th>Close</th>\n",
       "      <th>Volume</th>\n",
       "    </tr>\n",
       "  </thead>\n",
       "  <tbody>\n",
       "    <tr>\n",
       "      <th>count</th>\n",
       "      <td>2741.000000</td>\n",
       "      <td>2741.000000</td>\n",
       "      <td>2741.000000</td>\n",
       "      <td>2741.000000</td>\n",
       "      <td>2.741000e+03</td>\n",
       "    </tr>\n",
       "    <tr>\n",
       "      <th>mean</th>\n",
       "      <td>11.458891</td>\n",
       "      <td>11.555424</td>\n",
       "      <td>11.365742</td>\n",
       "      <td>11.463261</td>\n",
       "      <td>1.072544e+07</td>\n",
       "    </tr>\n",
       "    <tr>\n",
       "      <th>std</th>\n",
       "      <td>5.219823</td>\n",
       "      <td>5.263112</td>\n",
       "      <td>5.178679</td>\n",
       "      <td>5.222732</td>\n",
       "      <td>7.187404e+06</td>\n",
       "    </tr>\n",
       "    <tr>\n",
       "      <th>min</th>\n",
       "      <td>4.945000</td>\n",
       "      <td>4.945000</td>\n",
       "      <td>4.863750</td>\n",
       "      <td>4.901250</td>\n",
       "      <td>1.068400e+06</td>\n",
       "    </tr>\n",
       "    <tr>\n",
       "      <th>25%</th>\n",
       "      <td>7.675000</td>\n",
       "      <td>7.735000</td>\n",
       "      <td>7.625000</td>\n",
       "      <td>7.670000</td>\n",
       "      <td>6.714400e+06</td>\n",
       "    </tr>\n",
       "    <tr>\n",
       "      <th>50%</th>\n",
       "      <td>9.165000</td>\n",
       "      <td>9.245000</td>\n",
       "      <td>9.085000</td>\n",
       "      <td>9.165000</td>\n",
       "      <td>9.036000e+06</td>\n",
       "    </tr>\n",
       "    <tr>\n",
       "      <th>75%</th>\n",
       "      <td>15.630000</td>\n",
       "      <td>15.730000</td>\n",
       "      <td>15.470000</td>\n",
       "      <td>15.620000</td>\n",
       "      <td>1.261830e+07</td>\n",
       "    </tr>\n",
       "    <tr>\n",
       "      <th>max</th>\n",
       "      <td>26.150000</td>\n",
       "      <td>26.389999</td>\n",
       "      <td>25.580000</td>\n",
       "      <td>26.200001</td>\n",
       "      <td>1.475912e+08</td>\n",
       "    </tr>\n",
       "  </tbody>\n",
       "</table>\n",
       "</div>"
      ],
      "text/plain": [
       "              Open         High          Low        Close        Volume\n",
       "count  2741.000000  2741.000000  2741.000000  2741.000000  2.741000e+03\n",
       "mean     11.458891    11.555424    11.365742    11.463261  1.072544e+07\n",
       "std       5.219823     5.263112     5.178679     5.222732  7.187404e+06\n",
       "min       4.945000     4.945000     4.863750     4.901250  1.068400e+06\n",
       "25%       7.675000     7.735000     7.625000     7.670000  6.714400e+06\n",
       "50%       9.165000     9.245000     9.085000     9.165000  9.036000e+06\n",
       "75%      15.630000    15.730000    15.470000    15.620000  1.261830e+07\n",
       "max      26.150000    26.389999    25.580000    26.200001  1.475912e+08"
      ]
     },
     "execution_count": 13,
     "metadata": {},
     "output_type": "execute_result"
    }
   ],
   "source": [
    "data_copy.describe()"
   ]
  },
  {
   "cell_type": "code",
   "execution_count": 14,
   "id": "7e66b57c",
   "metadata": {},
   "outputs": [],
   "source": [
    "import seaborn as sns\n",
    "import warnings\n",
    "warnings.filterwarnings('ignore')"
   ]
  },
  {
   "cell_type": "code",
   "execution_count": 15,
   "id": "98cbcb06",
   "metadata": {},
   "outputs": [
    {
     "data": {
      "image/png": "[encoded data removed]",
      "text/plain": [
       "<Figure size 432x288 with 1 Axes>"
      ]
     },
     "metadata": {
      "needs_background": "light"
     },
     "output_type": "display_data"
    }
   ],
   "source": [
    "sns.boxplot(data_copy['Close'])\n",
    "plt.show()"
   ]
  },
  {
   "cell_type": "code",
   "execution_count": 16,
   "id": "75b7b1db",
   "metadata": {},
   "outputs": [
    {
     "data": {
      "image/png": "[encoded data removed]",
      "text/plain": [
       "<Figure size 360x360 with 1 Axes>"
      ]
     },
     "metadata": {
      "needs_background": "light"
     },
     "output_type": "display_data"
    }
   ],
   "source": [
    "sns.displot(data_copy['Close'],kde=True)\n",
    "plt.show()"
   ]
  },
  {
   "cell_type": "code",
   "execution_count": 17,
   "id": "c09329a6",
   "metadata": {},
   "outputs": [
    {
     "data": {
      "text/plain": [
       "1.0194465468737697"
      ]
     },
     "execution_count": 17,
     "metadata": {},
     "output_type": "execute_result"
    }
   ],
   "source": [
    "data_copy['Close'].skew()"
   ]
  },
  {
   "cell_type": "code",
   "execution_count": 18,
   "id": "a477c034",
   "metadata": {},
   "outputs": [
    {
     "data": {
      "text/plain": [
       "5.672130846061973"
      ]
     },
     "execution_count": 18,
     "metadata": {},
     "output_type": "execute_result"
    }
   ],
   "source": [
    "data_copy['Volume'].skew()"
   ]
  },
  {
   "cell_type": "code",
   "execution_count": 19,
   "id": "30d78360",
   "metadata": {},
   "outputs": [
    {
     "data": {
      "image/png": "[encoded data removed]",
      "text/plain": [
       "<Figure size 360x360 with 1 Axes>"
      ]
     },
     "metadata": {
      "needs_background": "light"
     },
     "output_type": "display_data"
    }
   ],
   "source": [
    "sns.displot(data_copy['Volume'],kde=True)\n",
    "plt.show()"
   ]
  },
  {
   "cell_type": "code",
   "execution_count": 20,
   "id": "81e9bed1",
   "metadata": {},
   "outputs": [
    {
     "data": {
      "text/plain": [
       "0       15.943933\n",
       "1       16.384697\n",
       "2       16.823843\n",
       "3       16.804742\n",
       "4       16.694889\n",
       "          ...    \n",
       "2736    15.791049\n",
       "2737    15.626337\n",
       "2738    15.390543\n",
       "2739    15.592190\n",
       "2740    15.956259\n",
       "Name: Volume, Length: 2741, dtype: float64"
      ]
     },
     "execution_count": 20,
     "metadata": {},
     "output_type": "execute_result"
    }
   ],
   "source": [
    "log_volume = np.log(data_copy['Volume'])\n",
    "log_volume"
   ]
  },
  {
   "cell_type": "code",
   "execution_count": 21,
   "id": "d6e32ba6",
   "metadata": {},
   "outputs": [
    {
     "data": {
      "text/plain": [
       "0.39752409979115294"
      ]
     },
     "execution_count": 21,
     "metadata": {},
     "output_type": "execute_result"
    }
   ],
   "source": [
    "log_volume.skew()"
   ]
  },
  {
   "cell_type": "code",
   "execution_count": 22,
   "id": "54d15d3b",
   "metadata": {},
   "outputs": [
    {
     "data": {
      "text/plain": [
       "0.39752409979115294"
      ]
     },
     "execution_count": 22,
     "metadata": {},
     "output_type": "execute_result"
    }
   ],
   "source": [
    "data_copy['Volume'] = log_volume\n",
    "data_copy['Volume'].skew()"
   ]
  },
  {
   "cell_type": "code",
   "execution_count": 23,
   "id": "9bf8a034",
   "metadata": {},
   "outputs": [
    {
     "data": {
      "image/png": "[encoded data removed]",
      "text/plain": [
       "<Figure size 360x360 with 1 Axes>"
      ]
     },
     "metadata": {
      "needs_background": "light"
     },
     "output_type": "display_data"
    }
   ],
   "source": [
    "sns.displot(data_copy['Volume'],kde=True)\n",
    "plt.show()"
   ]
  },
  {
   "cell_type": "code",
   "execution_count": 24,
   "id": "5212f6b3",
   "metadata": {},
   "outputs": [
    {
     "data": {
      "text/plain": [
       "(2741, 4)"
      ]
     },
     "execution_count": 24,
     "metadata": {},
     "output_type": "execute_result"
    }
   ],
   "source": [
    "#CASE1\n",
    "x = data_copy[['High','Low','Open','Volume']].values\n",
    "y = data_copy['Close'].values\n",
    "\n",
    "x.shape"
   ]
  },
  {
   "cell_type": "code",
   "execution_count": 25,
   "id": "c34d13b2",
   "metadata": {},
   "outputs": [],
   "source": [
    "from sklearn.model_selection import train_test_split\n",
    "x_train,x_test,y_train,y_test = train_test_split(x,y,test_size=0.20,random_state=12)"
   ]
  },
  {
   "cell_type": "code",
   "execution_count": 26,
   "id": "59162e39",
   "metadata": {},
   "outputs": [
    {
     "data": {
      "text/plain": [
       "LinearRegression()"
      ]
     },
     "execution_count": 26,
     "metadata": {},
     "output_type": "execute_result"
    }
   ],
   "source": [
    "from sklearn.linear_model import LinearRegression\n",
    "lm = LinearRegression()\n",
    "lm.fit(x_train,y_train)\n"
   ]
  },
  {
   "cell_type": "code",
   "execution_count": 27,
   "id": "eebdc6e2",
   "metadata": {},
   "outputs": [
    {
     "data": {
      "text/plain": [
       "LinearRegression()"
      ]
     },
     "execution_count": 27,
     "metadata": {},
     "output_type": "execute_result"
    }
   ],
   "source": [
    "lm.fit(x_train,y_train)"
   ]
  },
  {
   "cell_type": "code",
   "execution_count": 28,
   "id": "3d66e45f",
   "metadata": {},
   "outputs": [
    {
     "name": "stdout",
     "output_type": "stream",
     "text": [
      "[ 0.85003768  0.73166742 -0.58276247 -0.00804862]\n"
     ]
    }
   ],
   "source": [
    "print(lm.coef_)"
   ]
  },
  {
   "cell_type": "code",
   "execution_count": 29,
   "id": "bd7d32ab",
   "metadata": {},
   "outputs": [
    {
     "name": "stdout",
     "output_type": "stream",
     "text": [
      "0.13194479686865357\n"
     ]
    }
   ],
   "source": [
    "print(lm.intercept_)"
   ]
  },
  {
   "cell_type": "code",
   "execution_count": 30,
   "id": "1e209317",
   "metadata": {},
   "outputs": [],
   "source": [
    "from sklearn.metrics import mean_squared_error\n",
    "from sklearn.metrics import r2_score\n",
    "y_pred = lm.predict(x_train)"
   ]
  },
  {
   "cell_type": "code",
   "execution_count": 31,
   "id": "b9bc4d50",
   "metadata": {},
   "outputs": [
    {
     "data": {
      "text/plain": [
       "0.004003107449183738"
      ]
     },
     "execution_count": 31,
     "metadata": {},
     "output_type": "execute_result"
    }
   ],
   "source": [
    "mean_squared_error(y_train,y_pred)"
   ]
  },
  {
   "cell_type": "code",
   "execution_count": 32,
   "id": "2b8545eb",
   "metadata": {},
   "outputs": [
    {
     "name": "stdout",
     "output_type": "stream",
     "text": [
      "99.98542372025885\n"
     ]
    }
   ],
   "source": [
    "r2 = r2_score(y_true=y_train,y_pred=y_pred)\n",
    "print(r2*100)\n",
    "#Acurracy"
   ]
  },
  {
   "cell_type": "code",
   "execution_count": 33,
   "id": "1a209fcb",
   "metadata": {},
   "outputs": [],
   "source": [
    "predicted = lm.predict(x_test)\n",
    "#print(predicted)"
   ]
  },
  {
   "cell_type": "code",
   "execution_count": 34,
   "id": "93b7f3d6",
   "metadata": {},
   "outputs": [
    {
     "data": {
      "text/html": [
       "<div>\n",
       "<style scoped>\n",
       "    .dataframe tbody tr th:only-of-type {\n",
       "        vertical-align: middle;\n",
       "    }\n",
       "\n",
       "    .dataframe tbody tr th {\n",
       "        vertical-align: top;\n",
       "    }\n",
       "\n",
       "    .dataframe thead th {\n",
       "        text-align: right;\n",
       "    }\n",
       "</style>\n",
       "<table border=\"1\" class=\"dataframe\">\n",
       "  <thead>\n",
       "    <tr style=\"text-align: right;\">\n",
       "      <th></th>\n",
       "      <th>Actual</th>\n",
       "      <th>Predicted</th>\n",
       "    </tr>\n",
       "  </thead>\n",
       "  <tbody>\n",
       "    <tr>\n",
       "      <th>0</th>\n",
       "      <td>8.030000</td>\n",
       "      <td>8.043513</td>\n",
       "    </tr>\n",
       "    <tr>\n",
       "      <th>1</th>\n",
       "      <td>10.590000</td>\n",
       "      <td>10.598697</td>\n",
       "    </tr>\n",
       "    <tr>\n",
       "      <th>2</th>\n",
       "      <td>6.413750</td>\n",
       "      <td>6.394845</td>\n",
       "    </tr>\n",
       "    <tr>\n",
       "      <th>3</th>\n",
       "      <td>7.045000</td>\n",
       "      <td>7.071759</td>\n",
       "    </tr>\n",
       "    <tr>\n",
       "      <th>4</th>\n",
       "      <td>12.600000</td>\n",
       "      <td>12.599150</td>\n",
       "    </tr>\n",
       "    <tr>\n",
       "      <th>...</th>\n",
       "      <td>...</td>\n",
       "      <td>...</td>\n",
       "    </tr>\n",
       "    <tr>\n",
       "      <th>544</th>\n",
       "      <td>23.700001</td>\n",
       "      <td>23.761333</td>\n",
       "    </tr>\n",
       "    <tr>\n",
       "      <th>545</th>\n",
       "      <td>8.375000</td>\n",
       "      <td>8.392615</td>\n",
       "    </tr>\n",
       "    <tr>\n",
       "      <th>546</th>\n",
       "      <td>18.100000</td>\n",
       "      <td>18.059876</td>\n",
       "    </tr>\n",
       "    <tr>\n",
       "      <th>547</th>\n",
       "      <td>21.850000</td>\n",
       "      <td>21.804408</td>\n",
       "    </tr>\n",
       "    <tr>\n",
       "      <th>548</th>\n",
       "      <td>9.060000</td>\n",
       "      <td>9.023113</td>\n",
       "    </tr>\n",
       "  </tbody>\n",
       "</table>\n",
       "<p>549 rows × 2 columns</p>\n",
       "</div>"
      ],
      "text/plain": [
       "        Actual  Predicted\n",
       "0     8.030000   8.043513\n",
       "1    10.590000  10.598697\n",
       "2     6.413750   6.394845\n",
       "3     7.045000   7.071759\n",
       "4    12.600000  12.599150\n",
       "..         ...        ...\n",
       "544  23.700001  23.761333\n",
       "545   8.375000   8.392615\n",
       "546  18.100000  18.059876\n",
       "547  21.850000  21.804408\n",
       "548   9.060000   9.023113\n",
       "\n",
       "[549 rows x 2 columns]"
      ]
     },
     "execution_count": 34,
     "metadata": {},
     "output_type": "execute_result"
    }
   ],
   "source": [
    "comparision = pd.DataFrame({'Actual':y_test.flatten(),'Predicted':predicted.flatten()})\n",
    "comparision"
   ]
  },
  {
   "cell_type": "code",
   "execution_count": 35,
   "id": "43c96ab4",
   "metadata": {},
   "outputs": [],
   "source": [
    "#x_test.shape"
   ]
  },
  {
   "cell_type": "code",
   "execution_count": 36,
   "id": "539e76ae",
   "metadata": {},
   "outputs": [
    {
     "data": {
      "text/html": [
       "<div>\n",
       "<style scoped>\n",
       "    .dataframe tbody tr th:only-of-type {\n",
       "        vertical-align: middle;\n",
       "    }\n",
       "\n",
       "    .dataframe tbody tr th {\n",
       "        vertical-align: top;\n",
       "    }\n",
       "\n",
       "    .dataframe thead th {\n",
       "        text-align: right;\n",
       "    }\n",
       "</style>\n",
       "<table border=\"1\" class=\"dataframe\">\n",
       "  <thead>\n",
       "    <tr style=\"text-align: right;\">\n",
       "      <th></th>\n",
       "      <th>Actual</th>\n",
       "      <th>Predicted</th>\n",
       "    </tr>\n",
       "  </thead>\n",
       "  <tbody>\n",
       "    <tr>\n",
       "      <th>0</th>\n",
       "      <td>8.030000</td>\n",
       "      <td>8.043513</td>\n",
       "    </tr>\n",
       "    <tr>\n",
       "      <th>1</th>\n",
       "      <td>10.590000</td>\n",
       "      <td>10.598697</td>\n",
       "    </tr>\n",
       "    <tr>\n",
       "      <th>2</th>\n",
       "      <td>6.413750</td>\n",
       "      <td>6.394845</td>\n",
       "    </tr>\n",
       "    <tr>\n",
       "      <th>3</th>\n",
       "      <td>7.045000</td>\n",
       "      <td>7.071759</td>\n",
       "    </tr>\n",
       "    <tr>\n",
       "      <th>4</th>\n",
       "      <td>12.600000</td>\n",
       "      <td>12.599150</td>\n",
       "    </tr>\n",
       "    <tr>\n",
       "      <th>5</th>\n",
       "      <td>7.055000</td>\n",
       "      <td>6.986421</td>\n",
       "    </tr>\n",
       "    <tr>\n",
       "      <th>6</th>\n",
       "      <td>9.082500</td>\n",
       "      <td>9.110614</td>\n",
       "    </tr>\n",
       "    <tr>\n",
       "      <th>7</th>\n",
       "      <td>8.195000</td>\n",
       "      <td>8.191406</td>\n",
       "    </tr>\n",
       "    <tr>\n",
       "      <th>8</th>\n",
       "      <td>9.540000</td>\n",
       "      <td>9.530880</td>\n",
       "    </tr>\n",
       "    <tr>\n",
       "      <th>9</th>\n",
       "      <td>23.440001</td>\n",
       "      <td>23.411730</td>\n",
       "    </tr>\n",
       "    <tr>\n",
       "      <th>10</th>\n",
       "      <td>17.610001</td>\n",
       "      <td>17.575763</td>\n",
       "    </tr>\n",
       "    <tr>\n",
       "      <th>11</th>\n",
       "      <td>6.243750</td>\n",
       "      <td>6.240634</td>\n",
       "    </tr>\n",
       "    <tr>\n",
       "      <th>12</th>\n",
       "      <td>10.450000</td>\n",
       "      <td>10.465095</td>\n",
       "    </tr>\n",
       "    <tr>\n",
       "      <th>13</th>\n",
       "      <td>7.952500</td>\n",
       "      <td>8.031008</td>\n",
       "    </tr>\n",
       "    <tr>\n",
       "      <th>14</th>\n",
       "      <td>7.240000</td>\n",
       "      <td>7.299689</td>\n",
       "    </tr>\n",
       "    <tr>\n",
       "      <th>15</th>\n",
       "      <td>12.650000</td>\n",
       "      <td>12.653310</td>\n",
       "    </tr>\n",
       "    <tr>\n",
       "      <th>16</th>\n",
       "      <td>16.860001</td>\n",
       "      <td>16.873008</td>\n",
       "    </tr>\n",
       "    <tr>\n",
       "      <th>17</th>\n",
       "      <td>12.780000</td>\n",
       "      <td>12.748552</td>\n",
       "    </tr>\n",
       "    <tr>\n",
       "      <th>18</th>\n",
       "      <td>7.955000</td>\n",
       "      <td>7.929413</td>\n",
       "    </tr>\n",
       "    <tr>\n",
       "      <th>19</th>\n",
       "      <td>11.490000</td>\n",
       "      <td>11.494899</td>\n",
       "    </tr>\n",
       "    <tr>\n",
       "      <th>20</th>\n",
       "      <td>12.630000</td>\n",
       "      <td>12.754392</td>\n",
       "    </tr>\n",
       "    <tr>\n",
       "      <th>21</th>\n",
       "      <td>7.845000</td>\n",
       "      <td>7.830501</td>\n",
       "    </tr>\n",
       "    <tr>\n",
       "      <th>22</th>\n",
       "      <td>7.965000</td>\n",
       "      <td>8.006629</td>\n",
       "    </tr>\n",
       "    <tr>\n",
       "      <th>23</th>\n",
       "      <td>6.650000</td>\n",
       "      <td>6.592179</td>\n",
       "    </tr>\n",
       "    <tr>\n",
       "      <th>24</th>\n",
       "      <td>7.420000</td>\n",
       "      <td>7.270508</td>\n",
       "    </tr>\n",
       "  </tbody>\n",
       "</table>\n",
       "</div>"
      ],
      "text/plain": [
       "       Actual  Predicted\n",
       "0    8.030000   8.043513\n",
       "1   10.590000  10.598697\n",
       "2    6.413750   6.394845\n",
       "3    7.045000   7.071759\n",
       "4   12.600000  12.599150\n",
       "5    7.055000   6.986421\n",
       "6    9.082500   9.110614\n",
       "7    8.195000   8.191406\n",
       "8    9.540000   9.530880\n",
       "9   23.440001  23.411730\n",
       "10  17.610001  17.575763\n",
       "11   6.243750   6.240634\n",
       "12  10.450000  10.465095\n",
       "13   7.952500   8.031008\n",
       "14   7.240000   7.299689\n",
       "15  12.650000  12.653310\n",
       "16  16.860001  16.873008\n",
       "17  12.780000  12.748552\n",
       "18   7.955000   7.929413\n",
       "19  11.490000  11.494899\n",
       "20  12.630000  12.754392\n",
       "21   7.845000   7.830501\n",
       "22   7.965000   8.006629\n",
       "23   6.650000   6.592179\n",
       "24   7.420000   7.270508"
      ]
     },
     "execution_count": 36,
     "metadata": {},
     "output_type": "execute_result"
    }
   ],
   "source": [
    "comparision_top25 = comparision.head(25)\n",
    "#plt.show()\n",
    "comparision_top25"
   ]
  },
  {
   "cell_type": "code",
   "execution_count": 37,
   "id": "ce290cf2",
   "metadata": {},
   "outputs": [
    {
     "data": {
      "image/png": "[encoded data removed]",
      "text/plain": [
       "<Figure size 432x288 with 1 Axes>"
      ]
     },
     "metadata": {
      "needs_background": "light"
     },
     "output_type": "display_data"
    }
   ],
   "source": [
    "comparision_top25.plot(kind='bar')\n",
    "plt.show()"
   ]
  },
  {
   "cell_type": "code",
   "execution_count": 63,
   "id": "ff451c82",
   "metadata": {},
   "outputs": [
    {
     "data": {
      "text/plain": [
       "(2741, 4)"
      ]
     },
     "execution_count": 63,
     "metadata": {},
     "output_type": "execute_result"
    }
   ],
   "source": [
    "#CASE2\n",
    "x1 = data_copy[['High','Low','Close','Volume']].values\n",
    "y1 = data_copy['Open'].values\n",
    "\n",
    "x1.shape\n"
   ]
  },
  {
   "cell_type": "code",
   "execution_count": 49,
   "id": "b18fa412",
   "metadata": {},
   "outputs": [],
   "source": [
    "from sklearn.model_selection import train_test_split\n",
    "x1_train,x1_test,y1_train,y1_test = train_test_split(x1,y1,test_size=0.20,random_state=12)"
   ]
  },
  {
   "cell_type": "code",
   "execution_count": 50,
   "id": "f087f3d6",
   "metadata": {},
   "outputs": [
    {
     "data": {
      "text/plain": [
       "LinearRegression()"
      ]
     },
     "execution_count": 50,
     "metadata": {},
     "output_type": "execute_result"
    }
   ],
   "source": [
    "from sklearn.linear_model import LinearRegression\n",
    "lm = LinearRegression()\n",
    "lm.fit(x1_train,y1_train)\n"
   ]
  },
  {
   "cell_type": "code",
   "execution_count": 51,
   "id": "a165ea5d",
   "metadata": {},
   "outputs": [
    {
     "data": {
      "text/plain": [
       "LinearRegression()"
      ]
     },
     "execution_count": 51,
     "metadata": {},
     "output_type": "execute_result"
    }
   ],
   "source": [
    "lm.fit(x1_train,y1_train)"
   ]
  },
  {
   "cell_type": "code",
   "execution_count": 52,
   "id": "b6c8fabf",
   "metadata": {},
   "outputs": [
    {
     "name": "stdout",
     "output_type": "stream",
     "text": [
      "[ 0.84651645  0.72617514 -0.57358874 -0.00178912]\n"
     ]
    }
   ],
   "source": [
    "print(lm.coef_)"
   ]
  },
  {
   "cell_type": "code",
   "execution_count": 53,
   "id": "feac7e2d",
   "metadata": {},
   "outputs": [
    {
     "name": "stdout",
     "output_type": "stream",
     "text": [
      "0.02820511901288647\n"
     ]
    }
   ],
   "source": [
    "print(lm.intercept_)"
   ]
  },
  {
   "cell_type": "code",
   "execution_count": 54,
   "id": "dcef362d",
   "metadata": {},
   "outputs": [],
   "source": [
    "from sklearn.metrics import mean_squared_error\n",
    "from sklearn.metrics import r2_score\n",
    "y1_pred = lm.predict(x1_train)"
   ]
  },
  {
   "cell_type": "code",
   "execution_count": 55,
   "id": "87297de7",
   "metadata": {},
   "outputs": [
    {
     "data": {
      "text/plain": [
       "0.003940091301353083"
      ]
     },
     "execution_count": 55,
     "metadata": {},
     "output_type": "execute_result"
    }
   ],
   "source": [
    "mean_squared_error(y1_train,y1_pred)"
   ]
  },
  {
   "cell_type": "code",
   "execution_count": 59,
   "id": "d9fcac85",
   "metadata": {},
   "outputs": [
    {
     "name": "stdout",
     "output_type": "stream",
     "text": [
      "99.98565426501683\n"
     ]
    }
   ],
   "source": [
    "r2 = r2_score(y_true=y1_train,y_pred=y1_pred)\n",
    "print(r2*100)\n",
    "#Acurracy"
   ]
  },
  {
   "cell_type": "code",
   "execution_count": 48,
   "id": "2e24992b",
   "metadata": {},
   "outputs": [],
   "source": [
    "predicted = lm.predict(x1_test)\n",
    "#print(predicted)"
   ]
  },
  {
   "cell_type": "code",
   "execution_count": 58,
   "id": "0f602300",
   "metadata": {},
   "outputs": [
    {
     "data": {
      "text/html": [
       "<div>\n",
       "<style scoped>\n",
       "    .dataframe tbody tr th:only-of-type {\n",
       "        vertical-align: middle;\n",
       "    }\n",
       "\n",
       "    .dataframe tbody tr th {\n",
       "        vertical-align: top;\n",
       "    }\n",
       "\n",
       "    .dataframe thead th {\n",
       "        text-align: right;\n",
       "    }\n",
       "</style>\n",
       "<table border=\"1\" class=\"dataframe\">\n",
       "  <thead>\n",
       "    <tr style=\"text-align: right;\">\n",
       "      <th></th>\n",
       "      <th>Actual</th>\n",
       "      <th>Predicted</th>\n",
       "    </tr>\n",
       "  </thead>\n",
       "  <tbody>\n",
       "    <tr>\n",
       "      <th>0</th>\n",
       "      <td>8.010000</td>\n",
       "      <td>8.043513</td>\n",
       "    </tr>\n",
       "    <tr>\n",
       "      <th>1</th>\n",
       "      <td>10.620000</td>\n",
       "      <td>10.598697</td>\n",
       "    </tr>\n",
       "    <tr>\n",
       "      <th>2</th>\n",
       "      <td>6.453750</td>\n",
       "      <td>6.394845</td>\n",
       "    </tr>\n",
       "    <tr>\n",
       "      <th>3</th>\n",
       "      <td>7.175000</td>\n",
       "      <td>7.071759</td>\n",
       "    </tr>\n",
       "    <tr>\n",
       "      <th>4</th>\n",
       "      <td>12.720000</td>\n",
       "      <td>12.599150</td>\n",
       "    </tr>\n",
       "    <tr>\n",
       "      <th>...</th>\n",
       "      <td>...</td>\n",
       "      <td>...</td>\n",
       "    </tr>\n",
       "    <tr>\n",
       "      <th>544</th>\n",
       "      <td>23.780001</td>\n",
       "      <td>23.761333</td>\n",
       "    </tr>\n",
       "    <tr>\n",
       "      <th>545</th>\n",
       "      <td>8.470000</td>\n",
       "      <td>8.392615</td>\n",
       "    </tr>\n",
       "    <tr>\n",
       "      <th>546</th>\n",
       "      <td>17.940001</td>\n",
       "      <td>18.059876</td>\n",
       "    </tr>\n",
       "    <tr>\n",
       "      <th>547</th>\n",
       "      <td>21.860001</td>\n",
       "      <td>21.804408</td>\n",
       "    </tr>\n",
       "    <tr>\n",
       "      <th>548</th>\n",
       "      <td>9.080000</td>\n",
       "      <td>9.023113</td>\n",
       "    </tr>\n",
       "  </tbody>\n",
       "</table>\n",
       "<p>549 rows × 2 columns</p>\n",
       "</div>"
      ],
      "text/plain": [
       "        Actual  Predicted\n",
       "0     8.010000   8.043513\n",
       "1    10.620000  10.598697\n",
       "2     6.453750   6.394845\n",
       "3     7.175000   7.071759\n",
       "4    12.720000  12.599150\n",
       "..         ...        ...\n",
       "544  23.780001  23.761333\n",
       "545   8.470000   8.392615\n",
       "546  17.940001  18.059876\n",
       "547  21.860001  21.804408\n",
       "548   9.080000   9.023113\n",
       "\n",
       "[549 rows x 2 columns]"
      ]
     },
     "execution_count": 58,
     "metadata": {},
     "output_type": "execute_result"
    }
   ],
   "source": [
    "comparision1 = pd.DataFrame({'Actual':y1_test.flatten(),'Predicted':predicted.flatten()})\n",
    "comparision1"
   ]
  },
  {
   "cell_type": "code",
   "execution_count": 60,
   "id": "424270cf",
   "metadata": {},
   "outputs": [
    {
     "data": {
      "text/html": [
       "<div>\n",
       "<style scoped>\n",
       "    .dataframe tbody tr th:only-of-type {\n",
       "        vertical-align: middle;\n",
       "    }\n",
       "\n",
       "    .dataframe tbody tr th {\n",
       "        vertical-align: top;\n",
       "    }\n",
       "\n",
       "    .dataframe thead th {\n",
       "        text-align: right;\n",
       "    }\n",
       "</style>\n",
       "<table border=\"1\" class=\"dataframe\">\n",
       "  <thead>\n",
       "    <tr style=\"text-align: right;\">\n",
       "      <th></th>\n",
       "      <th>Actual</th>\n",
       "      <th>Predicted</th>\n",
       "    </tr>\n",
       "  </thead>\n",
       "  <tbody>\n",
       "    <tr>\n",
       "      <th>0</th>\n",
       "      <td>8.010000</td>\n",
       "      <td>8.043513</td>\n",
       "    </tr>\n",
       "    <tr>\n",
       "      <th>1</th>\n",
       "      <td>10.620000</td>\n",
       "      <td>10.598697</td>\n",
       "    </tr>\n",
       "    <tr>\n",
       "      <th>2</th>\n",
       "      <td>6.453750</td>\n",
       "      <td>6.394845</td>\n",
       "    </tr>\n",
       "    <tr>\n",
       "      <th>3</th>\n",
       "      <td>7.175000</td>\n",
       "      <td>7.071759</td>\n",
       "    </tr>\n",
       "    <tr>\n",
       "      <th>4</th>\n",
       "      <td>12.720000</td>\n",
       "      <td>12.599150</td>\n",
       "    </tr>\n",
       "    <tr>\n",
       "      <th>5</th>\n",
       "      <td>7.020000</td>\n",
       "      <td>6.986421</td>\n",
       "    </tr>\n",
       "    <tr>\n",
       "      <th>6</th>\n",
       "      <td>9.095000</td>\n",
       "      <td>9.110614</td>\n",
       "    </tr>\n",
       "    <tr>\n",
       "      <th>7</th>\n",
       "      <td>8.320000</td>\n",
       "      <td>8.191406</td>\n",
       "    </tr>\n",
       "    <tr>\n",
       "      <th>8</th>\n",
       "      <td>9.510000</td>\n",
       "      <td>9.530880</td>\n",
       "    </tr>\n",
       "    <tr>\n",
       "      <th>9</th>\n",
       "      <td>23.209999</td>\n",
       "      <td>23.411730</td>\n",
       "    </tr>\n",
       "    <tr>\n",
       "      <th>10</th>\n",
       "      <td>17.520000</td>\n",
       "      <td>17.575763</td>\n",
       "    </tr>\n",
       "    <tr>\n",
       "      <th>11</th>\n",
       "      <td>6.207500</td>\n",
       "      <td>6.240634</td>\n",
       "    </tr>\n",
       "    <tr>\n",
       "      <th>12</th>\n",
       "      <td>10.425000</td>\n",
       "      <td>10.465095</td>\n",
       "    </tr>\n",
       "    <tr>\n",
       "      <th>13</th>\n",
       "      <td>8.117500</td>\n",
       "      <td>8.031008</td>\n",
       "    </tr>\n",
       "    <tr>\n",
       "      <th>14</th>\n",
       "      <td>7.295000</td>\n",
       "      <td>7.299689</td>\n",
       "    </tr>\n",
       "    <tr>\n",
       "      <th>15</th>\n",
       "      <td>12.680000</td>\n",
       "      <td>12.653310</td>\n",
       "    </tr>\n",
       "    <tr>\n",
       "      <th>16</th>\n",
       "      <td>16.799999</td>\n",
       "      <td>16.873008</td>\n",
       "    </tr>\n",
       "    <tr>\n",
       "      <th>17</th>\n",
       "      <td>12.710000</td>\n",
       "      <td>12.748552</td>\n",
       "    </tr>\n",
       "    <tr>\n",
       "      <th>18</th>\n",
       "      <td>7.925000</td>\n",
       "      <td>7.929413</td>\n",
       "    </tr>\n",
       "    <tr>\n",
       "      <th>19</th>\n",
       "      <td>11.480000</td>\n",
       "      <td>11.494899</td>\n",
       "    </tr>\n",
       "    <tr>\n",
       "      <th>20</th>\n",
       "      <td>12.650000</td>\n",
       "      <td>12.754392</td>\n",
       "    </tr>\n",
       "    <tr>\n",
       "      <th>21</th>\n",
       "      <td>7.885000</td>\n",
       "      <td>7.830501</td>\n",
       "    </tr>\n",
       "    <tr>\n",
       "      <th>22</th>\n",
       "      <td>8.010000</td>\n",
       "      <td>8.006629</td>\n",
       "    </tr>\n",
       "    <tr>\n",
       "      <th>23</th>\n",
       "      <td>6.706250</td>\n",
       "      <td>6.592179</td>\n",
       "    </tr>\n",
       "    <tr>\n",
       "      <th>24</th>\n",
       "      <td>7.440000</td>\n",
       "      <td>7.270508</td>\n",
       "    </tr>\n",
       "  </tbody>\n",
       "</table>\n",
       "</div>"
      ],
      "text/plain": [
       "       Actual  Predicted\n",
       "0    8.010000   8.043513\n",
       "1   10.620000  10.598697\n",
       "2    6.453750   6.394845\n",
       "3    7.175000   7.071759\n",
       "4   12.720000  12.599150\n",
       "5    7.020000   6.986421\n",
       "6    9.095000   9.110614\n",
       "7    8.320000   8.191406\n",
       "8    9.510000   9.530880\n",
       "9   23.209999  23.411730\n",
       "10  17.520000  17.575763\n",
       "11   6.207500   6.240634\n",
       "12  10.425000  10.465095\n",
       "13   8.117500   8.031008\n",
       "14   7.295000   7.299689\n",
       "15  12.680000  12.653310\n",
       "16  16.799999  16.873008\n",
       "17  12.710000  12.748552\n",
       "18   7.925000   7.929413\n",
       "19  11.480000  11.494899\n",
       "20  12.650000  12.754392\n",
       "21   7.885000   7.830501\n",
       "22   8.010000   8.006629\n",
       "23   6.706250   6.592179\n",
       "24   7.440000   7.270508"
      ]
     },
     "execution_count": 60,
     "metadata": {},
     "output_type": "execute_result"
    }
   ],
   "source": [
    "comparision1_top25 = comparision1.head(25)\n",
    "#plt.show()\n",
    "comparision1_top25"
   ]
  },
  {
   "cell_type": "code",
   "execution_count": 61,
   "id": "8265b174",
   "metadata": {},
   "outputs": [
    {
     "data": {
      "image/png": "[encoded data removed]",
      "text/plain": [
       "<Figure size 432x288 with 1 Axes>"
      ]
     },
     "metadata": {
      "needs_background": "light"
     },
     "output_type": "display_data"
    }
   ],
   "source": [
    "comparision1_top25.plot(kind='bar')\n",
    "plt.show()"
   ]
  },
  {
   "cell_type": "code",
   "execution_count": 64,
   "id": "7da91583",
   "metadata": {},
   "outputs": [
    {
     "data": {
      "image/png": "[encoded data removed]",
      "text/plain": [
       "<Figure size 864x432 with 1 Axes>"
      ]
     },
     "metadata": {
      "needs_background": "light"
     },
     "output_type": "display_data"
    }
   ],
   "source": [
    "plt.figure(figsize=(12,6))\n",
    "plt.plot(data_copy.Close)\n",
    "plt.plot(ma100,'g')\n",
    "plt.plot(ma200,'r')\n",
    "plt.show()\n",
    "#If moving average of 100 days are greater than moving average of 200 days, then tht indicates Up trend otherwise its downtrend"
   ]
  }
 ],
 "metadata": {
  "kernelspec": {
   "display_name": "Python 3 (ipykernel)",
   "language": "python",
   "name": "python3"
  },
  "language_info": {
   "codemirror_mode": {
    "name": "ipython",
    "version": 3
   },
   "file_extension": ".py",
   "mimetype": "text/x-python",
   "name": "python",
   "nbconvert_exporter": "python",
   "pygments_lexer": "ipython3",
   "version": "3.9.7"
  }
 },
 "nbformat": 4,
 "nbformat_minor": 5
}
